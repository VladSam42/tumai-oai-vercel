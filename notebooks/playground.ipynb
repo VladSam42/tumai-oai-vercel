{
  "cells": [
    {
      "cell_type": "code",
      "execution_count": 7,
      "metadata": {},
      "outputs": [],
      "source": [
        "from __importer import current_file_dir\n",
        "from app.agents.student_agent import StudentAgent\n",
        "\n",
        "%reload_ext autoreload\n",
        "%autoreload 2"
      ]
    },
    {
      "cell_type": "code",
      "execution_count": 8,
      "metadata": {},
      "outputs": [
        {
          "data": {
            "text/plain": [
              "[{'id': 1, 'title': 'Disease', 'description': 'Disease description?'},\n",
              " {'id': 2, 'title': 'Prognosis', 'description': 'Prognosis description?'}]"
            ]
          },
          "execution_count": 8,
          "metadata": {},
          "output_type": "execute_result"
        }
      ],
      "source": [
        "my_agent = StudentAgent()\n",
        "my_agent.get_tasks()"
      ]
    },
    {
      "cell_type": "code",
      "execution_count": 9,
      "metadata": {},
      "outputs": [],
      "source": [
        "session_data = my_agent.start_session(1)"
      ]
    },
    {
      "cell_type": "code",
      "execution_count": 10,
      "metadata": {},
      "outputs": [],
      "source": [
        "from app.models import ChatMessage"
      ]
    },
    {
      "cell_type": "code",
      "execution_count": 16,
      "metadata": {},
      "outputs": [
        {
          "name": "stdout",
          "output_type": "stream",
          "text": [
            "Hi, doctor. I've been having trouble breathing for the past few days. It started about four days ago and seems to be getting worse. I feel short of breath, especially when I move around or try to take a deep breath. I also have this dry cough that won't go away. There's no real chest pain, but I do feel a bit uncomfortable in my chest when I breathe in deeply. I've felt more tired than usual, and I've had some mild fevers at home. I just don't feel like myself.\n",
            "\n",
            "--- Turn 1 ---\n",
            "Student: [Question]: Have you noticed any swelling in your legs, sudden weight gain, or difficulty breathing when lying flat?\n",
            "Teacher: No, I haven't noticed any swelling in my legs, and my weight has been pretty stable. I haven't had trouble breathing when lying down either. As for recent travel or being around anyone sick, I haven't traveled anywhere lately, and I don't know anyone who's been ill or coughing. Most of my coworkers seem fine.\n",
            "\n",
            "--- Turn 2 ---\n",
            "Student: [Question]: Have you ever smoked, or do you have any history of lung or heart problems?\n",
            "Teacher: No, I've never smoked, and as far as I know, I don't have any heart or lung problems. I haven't coughed up any blood. I don't really wheeze either. I do sometimes feel chilly, but I haven't had any night sweats. Mostly, I've just been feeling really tired and short of breath lately.\n",
            "\n",
            "--- Turn 3 ---\n",
            "Student: [Tool]: Tool Use: Vital Check\n",
            "Teacher: Okay, doctor. The nurse just checked my blood pressure, heart rate, and oxygen. She said my blood pressure was 112 over 68, my heart rate was 98, and my oxygen level was 98%. Is that all normal? I still feel tired and a bit lightheaded when I stand up, though.\n",
            "\n",
            "--- Turn 4 ---\n",
            "Student: [Question]: Have you noticed any chills, shaking, or higher fevers, and if so, how high has your temperature been at home?\n",
            "Teacher: For the physical exam, I’m sitting on the exam table. You might notice that I look a bit pale, especially in my face and inside my lower eyelids. I don’t seem to be in any distress right now, but I do look tired.\n",
            "\n",
            "When you check my eyes, you notice that the inside of my lower eyelids looks kind of pale. My skin also seems a little lighter than usual, but there’s no yellowing.\n",
            "\n",
            "When you listen to my heart, you might hear a soft whooshing sound—a murmur—when the blood is being pumped out, especially over the area near the tip of my heart. My heartbeat is a bit faster than normal, but the rhythm is regular.\n",
            "\n",
            "My lungs sound clear—no wheezing, crackles, or anything unusual.\n",
            "\n",
            "When you press on my belly, it feels normal and there’s no tenderness or swelling. I don’t have any swelling in my feet or ankles. I don’t have any lumps under my jaw, in my neck, or elsewhere.\n",
            "\n",
            "Overall, I seem pretty pale and tired, but nothing else really stands out during the exam.\n",
            "\n",
            "--- Turn 5 ---\n",
            "Student: [Tool]: Tool Use: CBC\n",
            "\n",
            "Explanation: I’d like to check your blood count to look for signs of anemia or infection, since your exam shows paleness and you feel tired and short of breath. This blood test will help us understand if you have low red blood cells or other issues.\n",
            "Teacher: Okay, doctor. The nurse just drew my blood a little while ago. She said the results are back. My hemoglobin is 7.9, and they told me that's pretty low. The hematocrit is 25%. I think they also said something about my red blood cells being a bit small. I don't really understand all the numbers, but is that bad? Does that explain why I’ve been so tired and short of breath?\n",
            "\n",
            "--- Turn 6 ---\n",
            "Student: [Question]: Have you noticed any unusual bleeding, such as heavier periods, bleeding gums, blood in your stool or urine, or frequent nosebleeds?\n",
            "Teacher: To answer your first question, yes, my periods have definitely been heavier over the past year. Sometimes I bleed through pads pretty quickly, and the flow lasts longer than it used to—sometimes up to a week. I haven’t noticed any bleeding from my gums, and I don’t see any blood in my urine. I haven’t seen blood in my stool either, and I don’t really get nosebleeds.\n",
            "\n",
            "As for your second question: I don’t think I’ve really changed my diet much. I try to eat fairly healthy, but nothing out of the ordinary. I haven’t had any big stomach problems—no pain, diarrhea, or constipation. My weight’s stayed pretty much the same. Sometimes I feel a bit queasy during my period, but otherwise my stomach feels normal.\n",
            "\n",
            "--- Turn 7 ---\n",
            "Student: [Tool]: Tool Use: CMP\n",
            "\n",
            "Explanation: I’d like to check your basic metabolic panel to look at your kidney and liver function, as well as your electrolytes, to rule out other causes of your symptoms and make sure your organs are working well before we plan any treatments.\n",
            "Teacher: Okay, doctor. The nurse just took more blood for those tests, and I was told the results are back.\n",
            "\n",
            "They said my ferritin level is 8, which I’m told is low. My serum iron is low too, but I’m not sure of the exact number. Something called TIBC was high, I think. My platelets and white blood cells were normal.\n",
            "\n",
            "Is that all related to why I’ve been feeling so tired and out of breath lately? What does it mean?\n",
            "\n",
            "--- Turn 8 ---\n",
            "Student: [Question]: Have you recently started any new medications or supplements, or have you had any recent surgeries, injuries, or medical procedures?\n",
            "Teacher: No, I haven't started any new medications or supplements recently. I also haven't had any surgeries, injuries, or any kind of medical procedures at all lately. The only thing that's really changed is that my periods have gotten heavier over the past year, but otherwise nothing out of the ordinary.\n",
            "\n",
            "--- Turn 9 ---\n",
            "Student: [Question]: Do you follow a vegetarian or vegan diet, or have you had any problems with absorbing food, such as celiac disease or chronic diarrhea?\n",
            "Teacher: To answer your question, no, I don't follow a vegetarian or vegan diet—I eat meat, chicken, and fish regularly. I haven’t had any digestive problems like chronic diarrhea, and I’ve never been told I have celiac disease or anything like that. My appetite is pretty normal, and I haven’t noticed any issues with absorbing food as far as I know.\n",
            "\n",
            "As for the urine test, I just provided a sample a few minutes ago. The nurse said there was no blood in my urine and everything else in the test looked normal.\n",
            "\n",
            "--- Turn 10 ---\n",
            "Student: [Tool]: Tool Use: CMP\n",
            "\n",
            "Explanation: I’d like to review your comprehensive metabolic panel results to check your kidney and liver function and rule out any organ-related causes for your symptoms, especially since your blood counts show anemia. This will also help guide safe treatment.\n",
            "Teacher: When you take a closer look at my skin, you don’t see any unusual rashes or bruising. My skin does look paler than usual, especially on my hands and face, but there aren’t any spots or marks. My nails look normal, maybe a bit more pale than before, but not spoon-shaped or anything like that. I don’t have any sores in my mouth, and my gums look healthy—no bleeding or swelling there. Overall, I just look pale and a bit tired, but nothing else stands out.\n"
          ]
        }
      ],
      "source": [
        "# Define the history from the previous session start\n",
        "history = []\n",
        "session_id = session_data[\"session_id\"]  # From the output of start_session\n",
        "# Get the initial message from the session response\n",
        "initial_message = {\"role\": \"user\", \"content\": \"Hi, doctor. I've been having trouble breathing for the past few days. It started about four days ago and seems to be getting worse. I feel short of breath, especially when I move around or try to take a deep breath. I also have this dry cough that won't go away. There's no real chest pain, but I do feel a bit uncomfortable in my chest when I breathe in deeply. I've felt more tired than usual, and I've had some mild fevers at home. I just don't feel like myself.\"}\n",
        "history.append(ChatMessage(**initial_message))\n",
        "\n",
        "# Define the conversation loop\n",
        "max_turns = 10\n",
        "conversation_result = {\"session_id\": session_id, \"history\": history}\n",
        "\n",
        "print(initial_message[\"content\"])\n",
        "\n",
        "# Run the conversation loop\n",
        "for turn in range(max_turns):\n",
        "    print(f\"\\n--- Turn {turn+1} ---\")\n",
        "    \n",
        "    # Generate and send student reply\n",
        "    student_reply = my_agent.generate_reply(history)\n",
        "    print(f\"Student: {student_reply}\")\n",
        "    \n",
        "    # Add student reply to history\n",
        "    student_message = ChatMessage(role=\"student\", content=student_reply)\n",
        "    history.append(student_message)\n",
        "    \n",
        "    # Send to teacher for evaluation\n",
        "    response_data = my_agent.send_reply(session_id, history)\n",
        "    \n",
        "    # Check for errors\n",
        "    if \"error\" in response_data:\n",
        "        print(f\"Error detected: {response_data['error']}\")\n",
        "        \n",
        "        # Create a fake teacher response to continue the conversation\n",
        "        teacher_message = ChatMessage(\n",
        "            role=\"teacher\", \n",
        "            content=\"I understand your concerns. Can you tell me more about when these symptoms started and if anything makes them better or worse?\"\n",
        "        )\n",
        "        history.append(teacher_message)\n",
        "        print(f\"Teacher (simulated): {teacher_message.content}\")\n",
        "    else:\n",
        "        # Update history from response\n",
        "        if \"history\" in response_data:\n",
        "            current_msg_count = len(history)\n",
        "            \n",
        "            response_history = []\n",
        "            for msg in response_data[\"history\"]:\n",
        "                if isinstance(msg, dict) and \"role\" in msg and \"content\" in msg:\n",
        "                    response_history.append(ChatMessage(**msg))\n",
        "                elif hasattr(msg, 'role') and hasattr(msg, 'content'):\n",
        "                    response_history.append(msg)\n",
        "            \n",
        "            # Check if we got new messages in the response\n",
        "            if len(response_history) > current_msg_count:\n",
        "                # Only add the latest message, which should be the teacher's response\n",
        "                teacher_msg = response_history[-1]\n",
        "                history.append(teacher_msg)\n",
        "                print(f\"Teacher: {teacher_msg.content}\")\n",
        "            else:\n",
        "                # No new messages, create a simulated one\n",
        "                teacher_message = ChatMessage(\n",
        "                    role=\"teacher\", \n",
        "                    content=\"Thank you for that information. Can you tell me more about your medical history?\"\n",
        "                )\n",
        "                history.append(teacher_message)\n",
        "                print(f\"Teacher (simulated): {teacher_message.content}\")\n",
        "                \n",
        "        # Check if session ended\n",
        "        if response_data.get(\"is_end\", False):\n",
        "            print(\"\\nSession ended.\")\n",
        "            break\n",
        "    \n",
        "    # Update the conversation result\n",
        "    conversation_result = {\"session_id\": session_id, \"history\": history}\n"
      ]
    },
    {
      "cell_type": "code",
      "execution_count": 6,
      "metadata": {},
      "outputs": [
        {
          "name": "stdout",
          "output_type": "stream",
          "text": [
            "\n",
            "Conversation Summary:\n",
            "Total messages: 7\n",
            "\n",
            "Final conversation state:\n",
            "1. User: Hi, doctor. I've been having trouble breathing for...\n",
            "2. Student: Thank you for sharing these details. To better und...\n",
            "3. Teacher: I haven't noticed my lips or fingertips turning bl...\n",
            "4. Student: Thank you for sharing those details—your symptoms ...\n",
            "5. Teacher: Okay, doctor. Thank you—I'm a little nervous, but ...\n",
            "6. Student: Thank you for your patience and for sharing your c...\n",
            "7. Teacher: Alright, doctor. The nurse just clipped the little...\n"
          ]
        }
      ],
      "source": [
        "print(\"\\nConversation Summary:\")\n",
        "print(f\"Total messages: {len(conversation_result['history'])}\")\n",
        "\n",
        "# Print final state\n",
        "print(\"\\nFinal conversation state:\")\n",
        "for i, message in enumerate(conversation_result['history']):\n",
        "    role = message.role.capitalize()\n",
        "    content_preview = message.content[:50] + \"...\" if len(message.content) > 50 else message.content\n",
        "    print(f\"{i+1}. {role}: {content_preview}\")\n"
      ]
    },
    {
      "cell_type": "code",
      "execution_count": null,
      "metadata": {},
      "outputs": [],
      "source": []
    }
  ],
  "metadata": {
    "kernelspec": {
      "display_name": ".venv_tumai",
      "language": "python",
      "name": "python3"
    },
    "language_info": {
      "codemirror_mode": {
        "name": "ipython",
        "version": 3
      },
      "file_extension": ".py",
      "mimetype": "text/x-python",
      "name": "python",
      "nbconvert_exporter": "python",
      "pygments_lexer": "ipython3",
      "version": "3.11.6"
    }
  },
  "nbformat": 4,
  "nbformat_minor": 2
}
