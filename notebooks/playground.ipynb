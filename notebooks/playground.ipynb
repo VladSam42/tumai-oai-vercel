{
 "cells": [
  {
   "cell_type": "code",
   "execution_count": 10,
   "metadata": {},
   "outputs": [],
   "source": [
    "from __importer import current_file_dir\n",
    "from app.agents.student_agent import StudentAgent\n",
    "\n",
    "%reload_ext autoreload\n",
    "%autoreload 2"
   ]
  },
  {
   "cell_type": "code",
   "execution_count": 11,
   "metadata": {},
   "outputs": [
    {
     "data": {
      "text/plain": [
       "[{'id': 1, 'title': 'Disease', 'description': 'Disease description?'},\n",
       " {'id': 2, 'title': 'Prognosis', 'description': 'Prognosis description?'}]"
      ]
     },
     "execution_count": 11,
     "metadata": {},
     "output_type": "execute_result"
    }
   ],
   "source": [
    "my_agent = StudentAgent()\n",
    "my_agent.get_tasks()"
   ]
  },
  {
   "cell_type": "code",
   "execution_count": 17,
   "metadata": {},
   "outputs": [
    {
     "data": {
      "text/plain": [
       "{'session_id': 15353,\n",
       " 'history': [{'role': 'user',\n",
       "   'content': \"Hi, doctor. Lately I've been feeling really tired, more than usual, and I've noticed I'm getting out of breath when I walk up the stairs at work. My heart sometimes feels like it's beating faster or fluttering, and over the last few days I've seen some swelling around my ankles. It's been going on for about two weeks. I don't have any chest pain or cough or anything like that, but I do feel a bit dizzy if I stand up too quickly. It just feels like something isn't quite right.\"}],\n",
       " 'score': None,\n",
       " 'is_end': False}"
      ]
     },
     "execution_count": 17,
     "metadata": {},
     "output_type": "execute_result"
    }
   ],
   "source": [
    "my_agent.start_session(1)"
   ]
  },
  {
   "cell_type": "code",
   "execution_count": null,
   "metadata": {},
   "outputs": [],
   "source": []
  }
 ],
 "metadata": {
  "kernelspec": {
   "display_name": ".venv_tumai",
   "language": "python",
   "name": "python3"
  },
  "language_info": {
   "codemirror_mode": {
    "name": "ipython",
    "version": 3
   },
   "file_extension": ".py",
   "mimetype": "text/x-python",
   "name": "python",
   "nbconvert_exporter": "python",
   "pygments_lexer": "ipython3",
   "version": "3.11.6"
  }
 },
 "nbformat": 4,
 "nbformat_minor": 2
}
