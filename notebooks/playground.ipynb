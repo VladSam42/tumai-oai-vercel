{
  "cells": [
    {
      "cell_type": "code",
      "execution_count": 1,
      "metadata": {},
      "outputs": [
        {
          "name": "stdout",
          "output_type": "stream",
          "text": [
            "Adding /Users/vlad/Projects/yMISC/tumai-oai to sys.path\n",
            "Loaded env from /Users/vlad/Projects/yMISC/tumai-oai/.env\n"
          ]
        }
      ],
      "source": [
        "from __importer import current_file_dir\n",
        "from app.agents.student_agent import StudentAgent\n",
        "\n",
        "%reload_ext autoreload\n",
        "%autoreload 2"
      ]
    },
    {
      "cell_type": "code",
      "execution_count": 2,
      "metadata": {},
      "outputs": [
        {
          "data": {
            "text/plain": [
              "[{'id': 1, 'title': 'Disease', 'description': 'Disease description?'},\n",
              " {'id': 2, 'title': 'Prognosis', 'description': 'Prognosis description?'}]"
            ]
          },
          "execution_count": 2,
          "metadata": {},
          "output_type": "execute_result"
        }
      ],
      "source": [
        "my_agent = StudentAgent()\n",
        "my_agent.get_tasks()"
      ]
    },
    {
      "cell_type": "code",
      "execution_count": 3,
      "metadata": {},
      "outputs": [],
      "source": [
        "session_data = my_agent.start_session(1)"
      ]
    },
    {
      "cell_type": "code",
      "execution_count": 4,
      "metadata": {},
      "outputs": [],
      "source": [
        "from app.models import ChatMessage"
      ]
    },
    {
      "cell_type": "code",
      "execution_count": 5,
      "metadata": {},
      "outputs": [
        {
          "name": "stdout",
          "output_type": "stream",
          "text": [
            "\n",
            "--- Turn 1 ---\n",
            "Student: Thank you for sharing these details. To help me better understand your condition, have you noticed any swelling in your legs, ankles, or feet? Also, do you have any history of heart or lung problems, such as asthma, COPD, or heart failure?\n",
            "Teacher: No, I haven't noticed any swelling in my legs, ankles, or feet. I don't have any history of heart problems or lung diseases like asthma or COPD. My only medical issue is hypothyroidism, but that's been controlled with my medication.\n",
            "\n",
            "As for your other questions, I haven't had any wheezing or coughed up any blood. My cough has been mostly dry, without much phlegm. I haven't traveled anywhere recently, and I don't know anyone who's been sick around me—no known COVID exposures that I'm aware of.\n",
            "\n",
            "--- Turn 2 ---\n",
            "Student: Thank you for sharing all of that. To help me assess how serious your symptoms are, I’d like to check your vital signs, including your oxygen level, heart rate, blood pressure, temperature, and breathing rate.\n",
            "\n",
            "Tool Use: Vital Check\n",
            "Teacher: Okay, doctor. I'm ready for you to check my lungs. Do you want me to take deep breaths in and out? Just let me know what you need me to do.\n",
            "\n",
            "(After the exam:)  \n",
            "I don't feel any pain when you listen, but I do get a bit more out of breath when I take deep breaths in and out like that. Otherwise, nothing unusual—no wheezing or anything that I can tell.\n",
            "\n",
            "--- Turn 3 ---\n",
            "Student: Thank you for your patience and for describing your symptoms so clearly. Since your main symptoms are shortness of breath, a dry cough, mild fever, and increasing fatigue, I'd like to look more closely at your lungs to check for infection or other causes. \n",
            "\n",
            "Tool Use: Chest X-ray\n",
            "Teacher: Sure, doctor, I’m ready for you to check my vitals.\n",
            "\n",
            "(Here are my results:)\n",
            "- Blood pressure: 108 over 62\n",
            "- Heart rate: 98\n",
            "- Temperature: 36.8°C\n",
            "- Breathing rate: 16 breaths per minute\n",
            "- Oxygen level: 98%\n",
            "\n",
            "I do feel a bit tired and sometimes dizzy when I stand up quickly, but otherwise I’m okay right now.\n"
          ]
        }
      ],
      "source": [
        "# Define the history from the previous session start\n",
        "history = []\n",
        "session_id = session_data[\"session_id\"]  # From the output of start_session\n",
        "# Get the initial message from the session response\n",
        "initial_message = {\"role\": \"user\", \"content\": \"Hi, doctor. I've been having trouble breathing for the past few days. It started about four days ago and seems to be getting worse. I feel short of breath, especially when I move around or try to take a deep breath. I also have this dry cough that won't go away. There's no real chest pain, but I do feel a bit uncomfortable in my chest when I breathe in deeply. I've felt more tired than usual, and I've had some mild fevers at home. I just don't feel like myself.\"}\n",
        "history.append(ChatMessage(**initial_message))\n",
        "\n",
        "# Define the conversation loop\n",
        "max_turns = 3\n",
        "conversation_result = {\"session_id\": session_id, \"history\": history}\n",
        "\n",
        "# Run the conversation loop\n",
        "for turn in range(max_turns):\n",
        "    print(f\"\\n--- Turn {turn+1} ---\")\n",
        "    \n",
        "    # Generate and send student reply\n",
        "    student_reply = my_agent.generate_reply(history)\n",
        "    print(f\"Student: {student_reply}\")\n",
        "    \n",
        "    # Add student reply to history\n",
        "    student_message = ChatMessage(role=\"student\", content=student_reply)\n",
        "    history.append(student_message)\n",
        "    \n",
        "    # Send to teacher for evaluation\n",
        "    response_data = my_agent.send_reply(session_id, history)\n",
        "    \n",
        "    # Check for errors\n",
        "    if \"error\" in response_data:\n",
        "        print(f\"Error detected: {response_data['error']}\")\n",
        "        \n",
        "        # Create a fake teacher response to continue the conversation\n",
        "        teacher_message = ChatMessage(\n",
        "            role=\"teacher\", \n",
        "            content=\"I understand your concerns. Can you tell me more about when these symptoms started and if anything makes them better or worse?\"\n",
        "        )\n",
        "        history.append(teacher_message)\n",
        "        print(f\"Teacher (simulated): {teacher_message.content}\")\n",
        "    else:\n",
        "        # Update history from response\n",
        "        if \"history\" in response_data:\n",
        "            # Get the existing history up to the student's response\n",
        "            # Then add any new messages from the response\n",
        "            current_msg_count = len(history)\n",
        "            \n",
        "            response_history = []\n",
        "            for msg in response_data[\"history\"]:\n",
        "                if isinstance(msg, dict) and \"role\" in msg and \"content\" in msg:\n",
        "                    response_history.append(ChatMessage(**msg))\n",
        "                elif hasattr(msg, 'role') and hasattr(msg, 'content'):\n",
        "                    response_history.append(msg)\n",
        "            \n",
        "            # Check if we got new messages in the response\n",
        "            if len(response_history) > current_msg_count:\n",
        "                # Only add the latest message, which should be the teacher's response\n",
        "                teacher_msg = response_history[-1]\n",
        "                history.append(teacher_msg)\n",
        "                print(f\"Teacher: {teacher_msg.content}\")\n",
        "            else:\n",
        "                # No new messages, create a simulated one\n",
        "                teacher_message = ChatMessage(\n",
        "                    role=\"teacher\", \n",
        "                    content=\"Thank you for that information. Can you tell me more about your medical history?\"\n",
        "                )\n",
        "                history.append(teacher_message)\n",
        "                print(f\"Teacher (simulated): {teacher_message.content}\")\n",
        "                \n",
        "        # Check if session ended\n",
        "        if response_data.get(\"is_end\", False):\n",
        "            print(\"\\nSession ended.\")\n",
        "            break\n",
        "    \n",
        "    # Update the conversation result\n",
        "    conversation_result = {\"session_id\": session_id, \"history\": history}\n"
      ]
    },
    {
      "cell_type": "code",
      "execution_count": 6,
      "metadata": {},
      "outputs": [
        {
          "name": "stdout",
          "output_type": "stream",
          "text": [
            "\n",
            "Conversation Summary:\n",
            "Total messages: 7\n",
            "\n",
            "Final conversation state:\n",
            "1. User: Hi, doctor. I've been having trouble breathing for...\n",
            "2. Student: Thank you for sharing these details. To better und...\n",
            "3. Teacher: I haven't noticed my lips or fingertips turning bl...\n",
            "4. Student: Thank you for sharing those details—your symptoms ...\n",
            "5. Teacher: Okay, doctor. Thank you—I'm a little nervous, but ...\n",
            "6. Student: Thank you for your patience and for sharing your c...\n",
            "7. Teacher: Alright, doctor. The nurse just clipped the little...\n"
          ]
        }
      ],
      "source": [
        "print(\"\\nConversation Summary:\")\n",
        "print(f\"Total messages: {len(conversation_result['history'])}\")\n",
        "\n",
        "# Print final state\n",
        "print(\"\\nFinal conversation state:\")\n",
        "for i, message in enumerate(conversation_result['history']):\n",
        "    role = message.role.capitalize()\n",
        "    content_preview = message.content[:50] + \"...\" if len(message.content) > 50 else message.content\n",
        "    print(f\"{i+1}. {role}: {content_preview}\")\n"
      ]
    },
    {
      "cell_type": "code",
      "execution_count": null,
      "metadata": {},
      "outputs": [],
      "source": []
    }
  ],
  "metadata": {
    "kernelspec": {
      "display_name": "base",
      "language": "python",
      "name": "python3"
    },
    "language_info": {
      "codemirror_mode": {
        "name": "ipython",
        "version": 3
      },
      "file_extension": ".py",
      "mimetype": "text/x-python",
      "name": "python",
      "nbconvert_exporter": "python",
      "pygments_lexer": "ipython3",
      "version": "3.12.4"
    }
  },
  "nbformat": 4,
  "nbformat_minor": 2
}
