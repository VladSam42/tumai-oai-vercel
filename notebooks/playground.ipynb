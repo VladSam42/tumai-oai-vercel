{
  "cells": [
    {
      "cell_type": "code",
      "execution_count": 12,
      "metadata": {},
      "outputs": [],
      "source": [
        "from __importer import current_file_dir\n",
        "from app.agents.student_agent import StudentAgent\n",
        "\n",
        "%reload_ext autoreload\n",
        "%autoreload 2"
      ]
    },
    {
      "cell_type": "code",
      "execution_count": 13,
      "metadata": {},
      "outputs": [
        {
          "data": {
            "text/plain": [
              "[{'id': 1, 'title': 'Disease', 'description': 'Disease description?'},\n",
              " {'id': 2, 'title': 'Prognosis', 'description': 'Prognosis description?'}]"
            ]
          },
          "execution_count": 13,
          "metadata": {},
          "output_type": "execute_result"
        }
      ],
      "source": [
        "my_agent = StudentAgent()\n",
        "my_agent.get_tasks()"
      ]
    },
    {
      "cell_type": "code",
      "execution_count": 14,
      "metadata": {},
      "outputs": [
        {
          "data": {
            "text/plain": [
              "{'session_id': 60871,\n",
              " 'history': [{'role': 'teacher',\n",
              "   'content': \"I've been feeling increasingly short of breath and my legs have been swelling up over the past three weeks.\"}],\n",
              " 'score': None,\n",
              " 'is_end': False}"
            ]
          },
          "execution_count": 14,
          "metadata": {},
          "output_type": "execute_result"
        }
      ],
      "source": [
        "session_data = my_agent.start_session(1)\n",
        "session_data"
      ]
    },
    {
      "cell_type": "code",
      "execution_count": 15,
      "metadata": {},
      "outputs": [],
      "source": [
        "from app.models import ChatMessage"
      ]
    },
    {
      "cell_type": "code",
      "execution_count": 16,
      "metadata": {},
      "outputs": [
        {
          "name": "stdout",
          "output_type": "stream",
          "text": [
            "Hi, doctor. I've been having trouble breathing for the past few days. It started about four days ago and seems to be getting worse. I feel short of breath, especially when I move around or try to take a deep breath. I also have this dry cough that won't go away. There's no real chest pain, but I do feel a bit uncomfortable in my chest when I breathe in deeply. I've felt more tired than usual, and I've had some mild fevers at home. I just don't feel like myself.\n",
            "\n",
            "--- Turn 1 ---\n",
            "Student: I need to check your vital signs to assess your current condition.  \n",
            "[Vital Check]: Tool Use\n",
            "Teacher: [Vital Signs: Blood pressure 158/98 mmHg, heart rate 92 bpm, respiratory rate 20/min, temperature 36.8°C, oxygen saturation 96% on room air.]  \n",
            "I've also noticed swelling in both legs and get very short of breath when I walk or lie down flat.\n",
            "\n",
            "--- Turn 2 ---\n",
            "Student: I want to take a closer look at your lungs and heart. [Chest X-ray]: Tool Use\n",
            "Teacher: [Chest X-ray: Cardiomegaly and mild pulmonary congestion.]  \n",
            "Both of my legs are swollen up to the knees and I feel much more short of breath when I lie flat.\n",
            "\n",
            "--- Turn 3 ---\n",
            "Student: I want to check your heart’s rhythm and function. [ECG]: Tool Use\n",
            "Teacher: [ECG: Sinus rhythm, evidence of left ventricular hypertrophy.]  \n",
            "[Complete Metabolic Panel (CMP): Creatinine 1.3 mg/dL (slightly elevated), Sodium 134 mmol/L, Potassium 4.6 mmol/L, HbA1c 8.2%.]  \n",
            "I've had high blood pressure and diabetes for several years, and I sometimes miss my medications. Doctor, do you have any idea what might be causing my symptoms?\n",
            "\n",
            "--- Turn 4 ---\n",
            "\n",
            "--- FINAL DIAGNOSIS ---\n",
            "Doctor: Thank you for sharing all of this information with me. Based on your symptoms—shortness of breath that’s getting worse, swelling in both legs, difficulty breathing when you lie flat, a persistent cough, and feeling more tired than usual—along with your vital signs, test results, and medical history, I am concerned that you are experiencing **heart failure**, most likely related to longstanding high blood pressure and diabetes.\n",
            "\n",
            "Your chest X-ray shows an enlarged heart and some fluid in the lungs, and your ECG shows changes in your heart muscle from working harder over time. The swelling in your legs and your difficulty breathing when lying down are also classic signs that your heart is not pumping as effectively as it should, causing fluid to build up in your body.\n",
            "\n",
            "The good news is that heart failure is a condition we can manage together. I want to help you feel better, reduce your symptoms, and prevent things from getting worse. This will involve adjusting your medications, closely monitoring your fluid intake, and making some changes to your daily habits. It’s also very important to take your blood pressure and diabetes medications consistently, as these conditions contribute to heart strain.\n",
            "\n",
            "I understand this may feel overwhelming, but you are not alone. I am here to support you every step of the way. We’ll work together to manage your symptoms and improve your quality of life. I’d like to discuss a treatment plan with you and answer any questions you may have. If your symptoms worsen—such as severe shortness of breath at rest, chest pain, confusion, or if the swelling gets much worse—please seek medical attention immediately.\n"
          ]
        }
      ],
      "source": [
        "# Define the history from the previous session start\n",
        "history = []\n",
        "session_id = session_data[\"session_id\"]  # From the output of start_session\n",
        "# Get the initial message from the session response\n",
        "initial_message = {\"role\": \"user\", \"content\": \"Hi, doctor. I've been having trouble breathing for the past few days. It started about four days ago and seems to be getting worse. I feel short of breath, especially when I move around or try to take a deep breath. I also have this dry cough that won't go away. There's no real chest pain, but I do feel a bit uncomfortable in my chest when I breathe in deeply. I've felt more tired than usual, and I've had some mild fevers at home. I just don't feel like myself.\"}\n",
        "history.append(ChatMessage(**initial_message))\n",
        "\n",
        "# Define the conversation loop\n",
        "max_turns = 4\n",
        "conversation_result = {\"session_id\": session_id, \"history\": history}\n",
        "\n",
        "print(initial_message[\"content\"])\n",
        "\n",
        "# Run the conversation loop\n",
        "for turn in range(max_turns):\n",
        "    print(f\"\\n--- Turn {turn+1} ---\")\n",
        "    # Check if we've reached 3 rounds (doctor, patient, doctor, patient, doctor, patient = 3 rounds)\n",
        "    if turn >= 3:\n",
        "        # Generate final diagnosis\n",
        "        diagnosis = my_agent.generate_diagnosis(history)\n",
        "        print(f\"\\n--- FINAL DIAGNOSIS ---\")\n",
        "        print(f\"Doctor: {diagnosis}\")\n",
        "        \n",
        "        # Add diagnosis to history\n",
        "        diagnosis_message = ChatMessage(role=\"teacher\", content=diagnosis)\n",
        "        history.append(diagnosis_message)\n",
        "        \n",
        "        # End the conversation\n",
        "        break\n",
        "    \n",
        "    # Generate and send student reply\n",
        "    student_reply = my_agent.generate_reply(history)\n",
        "    print(f\"Student: {student_reply}\")\n",
        "    \n",
        "    # Add student reply to history\n",
        "    student_message = ChatMessage(role=\"student\", content=student_reply)\n",
        "    history.append(student_message)\n",
        "    \n",
        "    # Send to teacher for evaluation\n",
        "    response_data = my_agent.send_reply(session_id, history)\n",
        "    \n",
        "    # Check for errors\n",
        "    if \"error\" in response_data:\n",
        "        print(f\"Error detected: {response_data['error']}\")\n",
        "        \n",
        "        # Create a fake teacher response to continue the conversation\n",
        "        teacher_message = ChatMessage(\n",
        "            role=\"teacher\", \n",
        "            content=\"I understand your concerns. Can you tell me more about when these symptoms started and if anything makes them better or worse?\"\n",
        "        )\n",
        "        history.append(teacher_message)\n",
        "        print(f\"Teacher (simulated): {teacher_message.content}\")\n",
        "    else:\n",
        "        # Update history from response\n",
        "        if \"history\" in response_data:\n",
        "            current_msg_count = len(history)\n",
        "            \n",
        "            response_history = []\n",
        "            for msg in response_data[\"history\"]:\n",
        "                if isinstance(msg, dict) and \"role\" in msg and \"content\" in msg:\n",
        "                    response_history.append(ChatMessage(**msg))\n",
        "                elif hasattr(msg, 'role') and hasattr(msg, 'content'):\n",
        "                    response_history.append(msg)\n",
        "            \n",
        "            # Check if we got new messages in the response\n",
        "            if len(response_history) > current_msg_count:\n",
        "                # Only add the latest message, which should be the teacher's response\n",
        "                teacher_msg = response_history[-1]\n",
        "                history.append(teacher_msg)\n",
        "                print(f\"Teacher: {teacher_msg.content}\")\n",
        "            else:\n",
        "                # No new messages, create a simulated one\n",
        "                teacher_message = ChatMessage(\n",
        "                    role=\"teacher\", \n",
        "                    content=\"Thank you for that information. Can you tell me more about your medical history?\"\n",
        "                )\n",
        "                history.append(teacher_message)\n",
        "                print(f\"Teacher (simulated): {teacher_message.content}\")\n",
        "                \n",
        "        # Check if session ended\n",
        "        if response_data.get(\"is_end\", False):\n",
        "            print(\"\\nSession ended.\")\n",
        "            break\n",
        "    \n",
        "    # Update the conversation result\n",
        "    conversation_result = {\"session_id\": session_id, \"history\": history}\n"
      ]
    },
    {
      "cell_type": "code",
      "execution_count": 18,
      "metadata": {},
      "outputs": [
        {
          "name": "stdout",
          "output_type": "stream",
          "text": [
            "\n",
            "Conversation Summary:\n",
            "Total messages: 8\n",
            "\n",
            "Final conversation state:\n",
            "1. User: Hi, doctor. I've been having trouble breathing for...\n",
            "2. Student: I need to check your vital signs to assess your cu...\n",
            "3. Teacher: [Vital Signs: Blood pressure 158/98 mmHg, heart ra...\n",
            "4. Student: I want to take a closer look at your lungs and hea...\n",
            "5. Teacher: [Chest X-ray: Cardiomegaly and mild pulmonary cong...\n",
            "6. Student: I want to check your heart’s rhythm and function. ...\n",
            "7. Teacher: [ECG: Sinus rhythm, evidence of left ventricular h...\n",
            "8. Teacher: Thank you for sharing all of this information with...\n"
          ]
        }
      ],
      "source": [
        "print(\"\\nConversation Summary:\")\n",
        "print(f\"Total messages: {len(conversation_result['history'])}\")\n",
        "\n",
        "# Print final state\n",
        "print(\"\\nFinal conversation state:\")\n",
        "for i, message in enumerate(conversation_result['history']):\n",
        "    role = message.role.capitalize()\n",
        "    content_preview = message.content[:50] + \"...\" if len(message.content) > 50 else message.content\n",
        "    print(f\"{i+1}. {role}: {content_preview}\")\n"
      ]
    },
    {
      "cell_type": "code",
      "execution_count": null,
      "metadata": {},
      "outputs": [],
      "source": []
    }
  ],
  "metadata": {
    "kernelspec": {
      "display_name": ".venv_tumai",
      "language": "python",
      "name": "python3"
    },
    "language_info": {
      "codemirror_mode": {
        "name": "ipython",
        "version": 3
      },
      "file_extension": ".py",
      "mimetype": "text/x-python",
      "name": "python",
      "nbconvert_exporter": "python",
      "pygments_lexer": "ipython3",
      "version": "3.11.6"
    }
  },
  "nbformat": 4,
  "nbformat_minor": 2
}
