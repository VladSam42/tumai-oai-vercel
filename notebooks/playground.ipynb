{
 "cells": [
  {
   "cell_type": "code",
   "execution_count": 1,
   "metadata": {},
   "outputs": [
    {
     "name": "stdout",
     "output_type": "stream",
     "text": [
      "Adding /Users/vlad/Projects/yMISC/tumai-oai to sys.path\n",
      "Loaded env from /Users/vlad/Projects/yMISC/tumai-oai/.env\n"
     ]
    }
   ],
   "source": [
    "from __importer import current_file_dir\n",
    "from app.agents.student_agent import StudentAgent\n",
    "\n",
    "%reload_ext autoreload\n",
    "%autoreload 2"
   ]
  },
  {
   "cell_type": "code",
   "execution_count": 2,
   "metadata": {},
   "outputs": [
    {
     "data": {
      "text/plain": [
       "[{'id': 1, 'title': 'Disease', 'description': 'Disease description?'},\n",
       " {'id': 2, 'title': 'Prognosis', 'description': 'Prognosis description?'}]"
      ]
     },
     "execution_count": 2,
     "metadata": {},
     "output_type": "execute_result"
    }
   ],
   "source": [
    "my_agent = StudentAgent()\n",
    "my_agent.get_tasks()"
   ]
  },
  {
   "cell_type": "code",
   "execution_count": 6,
   "metadata": {},
   "outputs": [
    {
     "data": {
      "text/plain": [
       "{'session_id': 32128,\n",
       " 'history': [{'role': 'user',\n",
       "   'content': '**Scenario:**  \\nA 30-year-old woman presents to the emergency department complaining of a sudden, severe headache that she describes as \"the worst headache of my life.\" She is a graphic designer, lives alone, and leads a relatively sedentary lifestyle. She has a 10-year history of migraine headaches, typically preceded by visual auras and relieved by sumatriptan. However, this headache started abruptly while she was watching TV two hours ago, and it feels different from her usual migraines—it is much more intense, throbbing, and located mainly at the back of her head. She rates the pain as 10/10, has experienced associated nausea and one episode of vomiting, but denies visual changes or aura this time. She also notes a brief episode of confusion and neck stiffness after onset.\\n\\nHer medical history is significant for migraines; she takes sumatriptan as needed and combined oral contraceptives for birth control. She has no known drug allergies, has not had any surgeries, and her family history is unremarkable except for her mother having hypertension. She does not smoke or use recreational drugs, and drinks alcohol socially.\\n\\n**Initial physical examination:**  \\nThe patient appears acutely distressed and is photophobic. Vital signs: BP 150/90 mmHg, HR 98 bpm, T 37.2°C, RR 18. Cranial nerve examination is unremarkable. Mild nuchal rigidity is noted. There is no focal limb weakness, ataxia, or sensory deficit; reflexes are normal.\\n\\n**Final Diagnosis:**  \\nSubarachnoid hemorrhage (SAH) due to ruptured cerebral aneurysm\\n\\n**Rationale:**  \\nThis patient’s presentation of a sudden-onset, severe, “thunderclap” headache—different in character and intensity from her typical migraines—along with nausea, vomiting, neck stiffness, and a brief episode of confusion, is characteristic of subarachnoid hemorrhage. The absence of focal neurological deficits does not rule out SAH. Her use of oral contraceptives is a vascular risk factor, and a negative family history does not exclude aneurysmal or spontaneous SAH. The scenario is designed to encourage the student to differentiate between a primary headache disorder (migraine) and a dangerous secondary cause of headache.'}],\n",
       " 'score': None,\n",
       " 'is_end': False}"
      ]
     },
     "execution_count": 6,
     "metadata": {},
     "output_type": "execute_result"
    }
   ],
   "source": [
    "my_agent.start_session(1)"
   ]
  },
  {
   "cell_type": "code",
   "execution_count": null,
   "metadata": {},
   "outputs": [],
   "source": []
  }
 ],
 "metadata": {
  "kernelspec": {
   "display_name": ".venv_tumai",
   "language": "python",
   "name": "python3"
  },
  "language_info": {
   "codemirror_mode": {
    "name": "ipython",
    "version": 3
   },
   "file_extension": ".py",
   "mimetype": "text/x-python",
   "name": "python",
   "nbconvert_exporter": "python",
   "pygments_lexer": "ipython3",
   "version": "3.11.6"
  }
 },
 "nbformat": 4,
 "nbformat_minor": 2
}
